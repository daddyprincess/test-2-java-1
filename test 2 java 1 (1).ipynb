{
 "cells": [
  {
   "cell_type": "markdown",
   "id": "fbdd145b-b31d-40af-9e4f-113681729ec0",
   "metadata": {},
   "source": [
    "## 1. java until scanner"
   ]
  },
  {
   "cell_type": "code",
   "execution_count": null,
   "id": "042fa7e6-9c3c-4ce5-a9c5-1b8898c312d4",
   "metadata": {},
   "outputs": [],
   "source": [
    "import java.util.Scanner;\n",
    "\n",
    "public class NumberCheck {\n",
    "    public static void main(String[] args) {\n",
    "        Scanner scanner = new Scanner(System.in);\n",
    "\n",
    "        System.out.print(\"Enter a number: \");\n",
    "        int number = scanner.nextInt();\n",
    "\n",
    "        if (number > 0) {\n",
    "            System.out.println(\"The number is positive.\");\n",
    "        } else if (number < 0) {\n",
    "            System.out.println(\"The number is negative.\");\n",
    "        } else {\n",
    "            System.out.println(\"The number is zero.\");\n",
    "        }\n",
    "\n",
    "        scanner.close();\n",
    "    }\n",
    "}\n"
   ]
  }
 ],
 "metadata": {
  "kernelspec": {
   "display_name": "Python 3 (ipykernel)",
   "language": "python",
   "name": "python3"
  },
  "language_info": {
   "codemirror_mode": {
    "name": "ipython",
    "version": 3
   },
   "file_extension": ".py",
   "mimetype": "text/x-python",
   "name": "python",
   "nbconvert_exporter": "python",
   "pygments_lexer": "ipython3",
   "version": "3.10.8"
  }
 },
 "nbformat": 4,
 "nbformat_minor": 5
}
